{
 "cells": [
  {
   "cell_type": "code",
   "execution_count": 5,
   "metadata": {},
   "outputs": [
    {
     "name": "stdout",
     "output_type": "stream",
     "text": [
      "Orders data generated successfully!\n"
     ]
    }
   ],
   "source": [
    "import os\n",
    "import csv\n",
    "from datetime import datetime, timedelta\n",
    "import random\n",
    "\n",
    "script_dir = os.getcwd()\n",
    "\n",
    "# Đường dẫn đến file addresses.csv\n",
    "addresses_file_path = os.path.join(script_dir, \"raw_data\", \"addresses.csv\")\n",
    "\n",
    "# Đường dẫn đến file orders.csv\n",
    "orders_file_path = os.path.join(script_dir, \"raw_data\", \"orders.csv\")\n",
    "\n",
    "# Đọc thông tin các địa chỉ từ file addresses.csv\n",
    "addresses = []\n",
    "with open(addresses_file_path, newline='', encoding='utf-8') as csvfile:\n",
    "    reader = csv.DictReader(csvfile)\n",
    "    for row in reader:\n",
    "        addresses.append(row)\n",
    "\n",
    "# Định nghĩa fieldnames\n",
    "fieldnames = ['email', 'ward', 'district', 'province', 'order_date', 'delivery_date', 'status', 'total_item', 'total_display_price', 'total_warehouse_price', 'total_discounted_price', 'is_active', 'order_created_at', 'order_updated_at', 'order_deleted_at']\n",
    "\n",
    "# Tạo dữ liệu cho orders.csv\n",
    "orders = []\n",
    "for address in addresses:\n",
    "    start_date = datetime.strptime(address['created_at'], '%Y-%m-%d')\n",
    "    end_date = datetime.strptime(address['updated_at'], '%Y-%m-%d')\n",
    "    current_date = start_date\n",
    "    while current_date <= end_date:\n",
    "        orders_count = 0\n",
    "        while orders_count < 15:\n",
    "            order_date = datetime(current_date.year, current_date.month, current_date.day, random.randint(7, 19), random.randint(0, 59), random.randint(0, 59))\n",
    "            delivery_date = order_date + timedelta(days=random.randint(1, 7))\n",
    "            if 7 <= order_date.hour < 20 and 7 <= delivery_date.hour < 20:\n",
    "                total_display_price = round(random.randint(10000000, 50000000), -3)\n",
    "                total_warehouse_price = round(random.randint(8000000, 40000000), -3)\n",
    "                total_discounted_price = round(random.randint(9000000, 45000000), -3)\n",
    "                if total_display_price > total_discounted_price > total_warehouse_price:\n",
    "                    order = {\n",
    "                        'email': address['email'],\n",
    "                        'ward': address['ward'],\n",
    "                        'district': address['district'],\n",
    "                        'province': address['province'],\n",
    "                        'order_date': order_date.strftime('%Y-%m-%d %H:%M:%S'),\n",
    "                        'delivery_date': delivery_date.strftime('%Y-%m-%d %H:%M:%S'),\n",
    "                        'status': 'ORDER-DELIVERED',\n",
    "                        'total_item': random.randint(1, 10),\n",
    "                        'total_display_price': total_display_price,\n",
    "                        'total_warehouse_price': total_warehouse_price,\n",
    "                        'total_discounted_price': total_discounted_price,\n",
    "                        'is_active': True,\n",
    "                        'order_created_at': current_date.strftime('%Y-%m-%d %H:%M:%S'),\n",
    "                        'order_updated_at': current_date.strftime('%Y-%m-%d %H:%M:%S'),\n",
    "                        'order_deleted_at': current_date.strftime('%Y-%m-%d %H:%M:%S')\n",
    "                    }\n",
    "                orders.append(order)\n",
    "                orders_count += 1\n",
    "        current_date += timedelta(days=1)\n",
    "\n",
    "# Ghi dữ liệu vào file orders.csv\n",
    "with open(orders_file_path, 'w', newline='', encoding='utf-8') as csvfile:\n",
    "    writer = csv.DictWriter(csvfile, fieldnames=fieldnames)\n",
    "    writer.writeheader()\n",
    "    for order in orders:\n",
    "        writer.writerow(order)\n",
    "\n",
    "print(\"Orders data generated successfully!\")\n"
   ]
  }
 ],
 "metadata": {
  "kernelspec": {
   "display_name": "learn-python-api-dev",
   "language": "python",
   "name": "python3"
  },
  "language_info": {
   "codemirror_mode": {
    "name": "ipython",
    "version": 3
   },
   "file_extension": ".py",
   "mimetype": "text/x-python",
   "name": "python",
   "nbconvert_exporter": "python",
   "pygments_lexer": "ipython3",
   "version": "3.9.6"
  }
 },
 "nbformat": 4,
 "nbformat_minor": 2
}
